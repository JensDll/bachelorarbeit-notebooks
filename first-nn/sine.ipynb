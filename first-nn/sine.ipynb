{
 "metadata": {
  "language_info": {
   "codemirror_mode": {
    "name": "ipython",
    "version": 3
   },
   "file_extension": ".py",
   "mimetype": "text/x-python",
   "name": "python",
   "nbconvert_exporter": "python",
   "pygments_lexer": "ipython3",
   "version": "3.8.9"
  },
  "orig_nbformat": 4,
  "kernelspec": {
   "name": "python3",
   "display_name": "Python 3.8.9 64-bit ('env': venv)"
  },
  "interpreter": {
   "hash": "180b983c19b59fbc4ee75c0071bf8c3d8fd3c21c390b9fd8c386bbb388b8a5f0"
  }
 },
 "nbformat": 4,
 "nbformat_minor": 2,
 "cells": [
  {
   "cell_type": "code",
   "execution_count": null,
   "source": [
    "import tensorflow as tf\r\n",
    "from tensorflow import keras\r\n",
    "\r\n",
    "import math\r\n",
    "import os\r\n",
    "\r\n",
    "import matplotlib.pyplot as plt\r\n",
    "import matplotlib as mpl\r\n",
    "mpl.rcParams.update({\r\n",
    "    \"pgf.texsystem\": \"pdflatex\",\r\n",
    "    'font.family': 'serif',\r\n",
    "    'text.usetex': True,\r\n",
    "    'pgf.rcfonts': False,\r\n",
    "    'font.size': 16\r\n",
    "})\r\n",
    "\r\n",
    "SAVE_FIG = True\r\n",
    "\r\n",
    "def save_fig(name, tight_layout = True):\r\n",
    "    if SAVE_FIG:\r\n",
    "        if not os.path.isdir(\"plots\"):\r\n",
    "            os.mkdir(\"plots\")\r\n",
    "        print(f\"Saving figure {name} ...\")\r\n",
    "        if tight_layout:\r\n",
    "            plt.tight_layout(pad=0.4)\r\n",
    "        plt.savefig(f\"plots/{name}.pdf\", backend=\"pgf\")"
   ],
   "outputs": [],
   "metadata": {}
  },
  {
   "cell_type": "code",
   "execution_count": null,
   "source": [
    "print(tf.__version__)"
   ],
   "outputs": [],
   "metadata": {}
  },
  {
   "cell_type": "code",
   "execution_count": null,
   "source": [
    "xs = tf.linspace(0, 14, 4000)\r\n",
    "ys = tf.math.sin(xs)"
   ],
   "outputs": [],
   "metadata": {}
  },
  {
   "cell_type": "code",
   "execution_count": null,
   "source": [
    "plt.plot(xs, ys, \"b-\")\r\n",
    "plt.plot()\r\n",
    "plt.grid()\r\n",
    "plt.plot([-10, 20], [0, 0], \"k-\")\r\n",
    "plt.axis([0, 14, -1.2, 1.2])\r\n",
    "plt.xlabel(\"$x$\")\r\n",
    "plt.ylabel(\"$\\sin(t)$\")\r\n",
    "plt.xticks(tf.range(0, 5 * math.pi, math.pi), [\"0\", \"$\\pi$\", \"$2\\pi$\", \"$3\\pi$\", \"$4\\pi$\"])\r\n",
    "save_fig(\"sine-curve\")\r\n",
    "plt.show()"
   ],
   "outputs": [],
   "metadata": {}
  },
  {
   "cell_type": "code",
   "execution_count": null,
   "source": [
    "SAMPLES = 2000\r\n",
    "\r\n",
    "tf.random.set_seed(42)\r\n",
    "\r\n",
    "x = tf.random.uniform((SAMPLES, 1), minval=0, maxval=2*math.pi)\r\n",
    "\r\n",
    "tf.random.shuffle(x)\r\n",
    "\r\n",
    "y = tf.math.sin(x)\r\n",
    "\r\n",
    "plt.plot(x, y, \"b.\")\r\n",
    "save_fig(\"sine-data\")\r\n",
    "plt.show()"
   ],
   "outputs": [],
   "metadata": {}
  },
  {
   "cell_type": "code",
   "execution_count": null,
   "source": [
    "y += 0.25 * tf.random.normal(y.shape)\r\n",
    "plt.plot(x, y, \"b.\")\r\n",
    "save_fig(\"sine-data-noise\")\r\n",
    "plt.show()"
   ],
   "outputs": [],
   "metadata": {}
  },
  {
   "cell_type": "code",
   "execution_count": null,
   "source": [
    "TRAIN_SPLIT = int(0.5 * SAMPLES)\r\n",
    "TEST_SPLIT = int(0.2 * SAMPLES)\r\n",
    "VAL_SPLIT = SAMPLES - TRAIN_SPLIT - TEST_SPLIT\r\n",
    "\r\n",
    "x_train, x_test, x_val = tf.split(x, [TRAIN_SPLIT, TEST_SPLIT, VAL_SPLIT])\r\n",
    "y_train, y_test, y_val = tf.split(y, [TRAIN_SPLIT, TEST_SPLIT, VAL_SPLIT])\r\n",
    "\r\n",
    "assert tf.size(x_train) + tf.size(x_test) + tf.size(x_val) == SAMPLES"
   ],
   "outputs": [],
   "metadata": {}
  },
  {
   "cell_type": "code",
   "execution_count": null,
   "source": [
    "plt.plot(x_train, y_train, \"b.\", label=\"Train\")\r\n",
    "plt.plot(x_test, y_test, \"y.\", label=\"Test\")\r\n",
    "plt.plot(x_val, y_val, \"r.\", label=\"Validation\")\r\n",
    "plt.legend()\r\n",
    "save_fig(\"sine-data-noise-legend\")\r\n",
    "plt.show()"
   ],
   "outputs": [],
   "metadata": {}
  },
  {
   "cell_type": "code",
   "execution_count": null,
   "source": [
    "input_layer = keras.layers.Input(shape=[1])\r\n",
    "hidden1 = keras.layers.Dense(16, activation=\"relu\", name=\"hidden1\")(input_layer)\r\n",
    "output = keras.layers.Dense(1, name=\"output\")(hidden1)\r\n",
    "model_1 = keras.Model(inputs=input_layer, outputs=output)"
   ],
   "outputs": [],
   "metadata": {}
  },
  {
   "cell_type": "code",
   "execution_count": null,
   "source": [
    "model_1.summary()"
   ],
   "outputs": [],
   "metadata": {}
  },
  {
   "cell_type": "code",
   "execution_count": null,
   "source": [
    "sgd = tf.keras.optimizers.SGD()\r\n",
    "model_1.compile(optimizer=sgd, loss=\"mse\", metrics=[\"mae\"])"
   ],
   "outputs": [],
   "metadata": {}
  },
  {
   "cell_type": "code",
   "execution_count": null,
   "source": [
    "EPOCHS = 200\r\n",
    "BATCH_SIZE = 16\r\n",
    "history_1 = model_1.fit(x_train, y_train, batch_size=BATCH_SIZE, epochs=EPOCHS, validation_data=(x_val, y_val))"
   ],
   "outputs": [],
   "metadata": {
    "tags": [
     "outputPrepend"
    ]
   }
  },
  {
   "cell_type": "code",
   "execution_count": null,
   "source": [
    "history_1.history.keys()"
   ],
   "outputs": [],
   "metadata": {}
  },
  {
   "cell_type": "code",
   "execution_count": null,
   "source": [
    "loss_1 = history_1.history[\"loss\"]\r\n",
    "val_loss_1 = history_1.history[\"val_loss\"]\r\n",
    "assert len(loss_1) == len(val_loss_1) == EPOCHS"
   ],
   "outputs": [],
   "metadata": {}
  },
  {
   "cell_type": "code",
   "execution_count": null,
   "source": [
    "train_epochs = tf.range(1.0, EPOCHS + 1)\r\n",
    "val_epochs = train_epochs + 0.5\r\n",
    "\r\n",
    "plt.plot(train_epochs, loss_1, \"b-\", label=\"Training Kosten\")\r\n",
    "plt.plot(val_epochs, val_loss_1, \"g-\", label=\"Validation Kosten\")\r\n",
    "plt.xlabel(\"Epochen\")\r\n",
    "plt.ylabel(\"Kosten\")\r\n",
    "plt.legend()\r\n",
    "save_fig(f\"1-kosten\")\r\n",
    "plt.show()"
   ],
   "outputs": [],
   "metadata": {}
  },
  {
   "cell_type": "code",
   "execution_count": null,
   "source": [
    "mae_1 = history_1.history[\"mae\"]\r\n",
    "val_mae_1 = history_1.history[\"val_mae\"]\r\n",
    "\r\n",
    "plt.plot(train_epochs, mae_1, \"b-\", label=\"Training MAE\")\r\n",
    "plt.plot(val_epochs, val_mae_1, \"g-\", label=\"Validation MAE\")\r\n",
    "plt.xlabel(\"Epochen\")\r\n",
    "plt.ylabel(\"Kosten\")\r\n",
    "plt.legend()\r\n",
    "save_fig(f\"1-mae\")\r\n",
    "plt.show()"
   ],
   "outputs": [],
   "metadata": {}
  },
  {
   "cell_type": "code",
   "execution_count": null,
   "source": [
    "predictions_1 = model_1.predict(x_test)\r\n",
    "\r\n",
    "plt.plot(x_test, y_test, \"b.\", label=\"Trainingsdaten\")\r\n",
    "plt.plot(x_test, predictions_1, \"y.\", label=\"Prognose\")\r\n",
    "plt.legend()\r\n",
    "save_fig(f\"1-prognosen\")\r\n",
    "plt.show()"
   ],
   "outputs": [],
   "metadata": {}
  },
  {
   "cell_type": "code",
   "execution_count": null,
   "source": [
    "input_layer = keras.layers.Input(shape=[1])\r\n",
    "hidden1 = keras.layers.Dense(16, activation=\"relu\", name=\"hidden1\")(input_layer)\r\n",
    "hidden2 = keras.layers.Dense(64, activation=\"relu\", name=\"hidden2\")(hidden1)\r\n",
    "output = keras.layers.Dense(1, name=\"output\")(hidden2)\r\n",
    "model_2 = keras.Model(inputs=input_layer, outputs=output)"
   ],
   "outputs": [],
   "metadata": {}
  },
  {
   "cell_type": "code",
   "execution_count": null,
   "source": [
    "model_2.summary()"
   ],
   "outputs": [],
   "metadata": {}
  },
  {
   "cell_type": "code",
   "execution_count": null,
   "source": [
    "sgd = tf.keras.optimizers.SGD()\r\n",
    "model_2.compile(optimizer=sgd, loss=\"mse\", metrics=[\"mae\"])"
   ],
   "outputs": [],
   "metadata": {}
  },
  {
   "cell_type": "code",
   "execution_count": null,
   "source": [
    "EPOCHS = 200\r\n",
    "\r\n",
    "early_stopping_cb = tf.keras.callbacks.EarlyStopping(\r\n",
    "    patience=EPOCHS,\r\n",
    "    monitor=\"loss\",\r\n",
    "    verbose=1,\r\n",
    "    restore_best_weights=True)\r\n",
    "\r\n",
    "history_2 = model_2.fit(\r\n",
    "    x_train,\r\n",
    "    y_train,\r\n",
    "    batch_size=BATCH_SIZE,\r\n",
    "    epochs=EPOCHS,\r\n",
    "    validation_data=(x_val, y_val),\r\n",
    "    callbacks=[early_stopping_cb])"
   ],
   "outputs": [],
   "metadata": {
    "tags": [
     "outputPrepend"
    ]
   }
  },
  {
   "cell_type": "code",
   "execution_count": null,
   "source": [
    "loss_2 = history_2.history[\"loss\"]\r\n",
    "val_loss_2 = history_2.history[\"val_loss\"]\r\n",
    "\r\n",
    "train_epochs = tf.range(1.0, EPOCHS + 1)\r\n",
    "val_epochs = train_epochs + 0.5\r\n",
    "\r\n",
    "plt.plot(train_epochs, loss_2, \"b-\", label=\"Training Kosten\")\r\n",
    "plt.plot(val_epochs, val_loss_2, \"g-\", label=\"Validation Kosten\")\r\n",
    "plt.xlabel(\"Epochen\")\r\n",
    "plt.ylabel(\"Kosten\")\r\n",
    "plt.legend()\r\n",
    "save_fig(\"2-kosten\")\r\n",
    "plt.show()\r\n",
    "\r\n",
    "plt.plot(train_epochs, loss_2, \"b-\", label=\"Training Kosten\")\r\n",
    "plt.plot(val_epochs, val_loss_2, \"g-\", label=\"Validation Kosten\")\r\n",
    "plt.xlabel(\"Epochen\")\r\n",
    "plt.ylabel(\"Kosten\")\r\n",
    "plt.legend()\r\n",
    "plt.axis([0, EPOCHS, 0, 0.3])\r\n",
    "save_fig(\"2-kosten-limit\")\r\n",
    "plt.show()"
   ],
   "outputs": [],
   "metadata": {}
  },
  {
   "cell_type": "code",
   "execution_count": null,
   "source": [
    "mae_2 = history_2.history[\"mae\"]\r\n",
    "val_mae_2 = history_2.history[\"val_mae\"]\r\n",
    "plt.plot(train_epochs, mae_2, \"b-\", label=\"Training MAE\")\r\n",
    "plt.plot(val_epochs, val_mae_2, \"g-\", label=\"Validation MAE\")\r\n",
    "plt.xlabel(\"Epochen\")\r\n",
    "plt.ylabel(\"Kosten\")\r\n",
    "plt.legend()\r\n",
    "plt.axis([0, EPOCHS, 0.15, 0.45])\r\n",
    "save_fig(\"2-mae\")\r\n",
    "plt.show()"
   ],
   "outputs": [],
   "metadata": {}
  },
  {
   "cell_type": "code",
   "execution_count": null,
   "source": [
    "predictions_2 = model_2.predict(x_test)\r\n",
    "plt.plot(x_test, y_test, \"b.\", label=\"Trainingsdaten\")\r\n",
    "plt.plot(x_test, predictions_2, \"y.\", label=\"Prognose\")\r\n",
    "plt.legend()\r\n",
    "save_fig(\"2-prognosen\")\r\n",
    "plt.show()"
   ],
   "outputs": [],
   "metadata": {}
  },
  {
   "cell_type": "code",
   "execution_count": null,
   "source": [
    "def save_model(model, model_name: str):\r\n",
    "    with open(model_name, \"wb\") as f:\r\n",
    "        f.write(model)"
   ],
   "outputs": [],
   "metadata": {}
  },
  {
   "cell_type": "code",
   "execution_count": null,
   "source": [
    "converter = tf.lite.TFLiteConverter.from_keras_model(model_2)\r\n",
    "tflite_model = converter.convert()\r\n",
    "\r\n",
    "save_model(tflite_model, \"sine_model.tflite\")"
   ],
   "outputs": [],
   "metadata": {}
  },
  {
   "cell_type": "code",
   "execution_count": null,
   "source": [
    "converter = tf.lite.TFLiteConverter.from_keras_model(model_2)\r\n",
    "converter.optimizations = [tf.lite.Optimize.DEFAULT]\r\n",
    "\r\n",
    "def representative_dataset():\r\n",
    "    for value in x_test:\r\n",
    "        yield [value]\r\n",
    "\r\n",
    "converter.representative_dataset = representative_dataset\r\n",
    "converter.target_spec.supported_ops = [tf.lite.OpsSet.TFLITE_BUILTINS_INT8]\r\n",
    "converter.inference_input_type = tf.int8\r\n",
    "converter.inference_output_type = tf.int8\r\n",
    "tflite_model = converter.convert()\r\n",
    "\r\n",
    "save_model(tflite_model, \"sine_model_quant.tflite\")"
   ],
   "outputs": [],
   "metadata": {}
  },
  {
   "cell_type": "code",
   "execution_count": null,
   "source": [
    "sine_model = tf.lite.Interpreter(\"sine_model.tflite\")\r\n",
    "sine_model_quant = tf.lite.Interpreter(\"sine_model_quant.tflite\")\r\n",
    "\r\n",
    "sine_model.allocate_tensors()\r\n",
    "sine_model_quant.allocate_tensors()\r\n",
    "\r\n",
    "input_details = sine_model.get_input_details()[0]\r\n",
    "output_details = sine_model.get_output_details()[0]\r\n",
    "\r\n",
    "input_details_quant = sine_model_quant.get_input_details()[0]\r\n",
    "output_details_quant = sine_model_quant.get_output_details()[0]\r\n",
    "\r\n",
    "input_scale, input_zero_point = input_details_quant[\"quantization\"]\r\n",
    "\r\n",
    "input_index = input_details[\"index\"]\r\n",
    "output_index = output_details[\"index\"]\r\n",
    "\r\n",
    "input_index_quant = input_details_quant[\"index\"]\r\n",
    "output_index_quant = output_details_quant[\"index\"]\r\n",
    "\r\n",
    "sine_model_predictions = []\r\n",
    "sine_model_quant_predictions = []\r\n",
    "\r\n",
    "for value in x_test:\r\n",
    "    tensor_float32 = tf.convert_to_tensor([value], dtype=tf.float32)\r\n",
    "    tensor_int8 = tf.convert_to_tensor([value / input_scale + input_zero_point], dtype=tf.int8)\r\n",
    "\r\n",
    "    sine_model.set_tensor(input_index, tensor_float32)\r\n",
    "    sine_model_quant.set_tensor(input_index_quant, tensor_int8)\r\n",
    "\r\n",
    "    sine_model.invoke()\r\n",
    "    sine_model_quant.invoke()\r\n",
    "\r\n",
    "    sine_model_predictions.append(\r\n",
    "        sine_model.get_tensor(output_index)[0,0]\r\n",
    "    )\r\n",
    "    sine_model_quant_predictions.append(\r\n",
    "        sine_model_quant.get_tensor(output_index_quant)[0,0] / 128\r\n",
    "    )"
   ],
   "outputs": [],
   "metadata": {}
  },
  {
   "cell_type": "code",
   "execution_count": null,
   "source": [
    "plt.plot(x_test, y_test, \"b.\", label=\"Daten\")\r\n",
    "plt.plot(x_test, predictions_2, \"ro\", label=\"Ursprüngliche Prognose\")\r\n",
    "plt.plot(x_test, sine_model_predictions, \"yx\", label=\"Lite Prognose\")\r\n",
    "plt.plot(x_test, sine_model_quant_predictions, \"g+\", label=\"Lite Quantisierte Prognose\")\r\n",
    "plt.legend()\r\n",
    "save_fig(\"model-comparison\")\r\n",
    "plt.show()"
   ],
   "outputs": [],
   "metadata": {}
  },
  {
   "cell_type": "code",
   "execution_count": null,
   "source": [
    "import os\r\n",
    "sine_size = os.path.getsize(\"sine_model.tflite\")\r\n",
    "print(f\"Sine model size: {sine_size}\")\r\n",
    "sine_quant_size = os.path.getsize(\"sine_model_quant.tflite\")\r\n",
    "print(f\"Sine quant model size: {sine_quant_size}\")"
   ],
   "outputs": [],
   "metadata": {}
  },
  {
   "cell_type": "code",
   "execution_count": null,
   "source": [
    "import platform\r\n",
    "\r\n",
    "EDGETUP_LIB = {\r\n",
    "    \"Linux\": \"libedgetpu.so.1\",\r\n",
    "    \"Darwin\": \"libedgetpu.1.dylib\",\r\n",
    "    \"Windows\": \"edgetpu.dll\",\r\n",
    "}[platform.system()]\r\n",
    "\r\n",
    "delegates = [tf.lite.experimental.load_delegate(EDGETUP_LIB)]\r\n",
    "sine_model_tpu = tf.lite.Interpreter(\r\n",
    "    \"sine_model_quant_edgetpu.tflite\",\r\n",
    "    experimental_delegates=delegates\r\n",
    ")\r\n",
    "\r\n",
    "sine_model_tpu.allocate_tensors()\r\n",
    "\r\n",
    "input_details_tpu = sine_model_tpu.get_input_details()[0]\r\n",
    "output_details_tpu = sine_model_tpu.get_output_details()[0]\r\n",
    "\r\n",
    "input_index_tpu = input_details_tpu[\"index\"]\r\n",
    "output_index_tpu = output_details_tpu[\"index\"]"
   ],
   "outputs": [],
   "metadata": {}
  },
  {
   "cell_type": "code",
   "execution_count": null,
   "source": [
    "import time\r\n",
    "\r\n",
    "values = tf.random.uniform((2000, 1, 1), minval=1, maxval=5)\r\n",
    "values = values / input_scale + input_zero_point\r\n",
    "values = tf.cast(values, dtype=tf.int8)\r\n",
    "\r\n",
    "start = time.perf_counter()\r\n",
    "for value in values:\r\n",
    "    sine_model_tpu.set_tensor(input_index_tpu, value)\r\n",
    "    sine_model_tpu.invoke()\r\n",
    "inference_time = (time.perf_counter() - start) * 1000\r\n",
    "\r\n",
    "print(inference_time)"
   ],
   "outputs": [],
   "metadata": {}
  },
  {
   "cell_type": "code",
   "execution_count": null,
   "source": [
    "values = tf.random.uniform((2000, 1, 1), minval=1, maxval=5)\r\n",
    "values = values / input_scale + input_zero_point\r\n",
    "values = tf.cast(values, dtype=tf.int8)\r\n",
    "\r\n",
    "start = time.perf_counter()\r\n",
    "for value in values:\r\n",
    "    sine_model_quant.set_tensor(input_index_tpu, value)\r\n",
    "    sine_model_quant.invoke()\r\n",
    "inference_time = (time.perf_counter() - start) * 1000\r\n",
    "\r\n",
    "print(inference_time)"
   ],
   "outputs": [],
   "metadata": {}
  }
 ]
}