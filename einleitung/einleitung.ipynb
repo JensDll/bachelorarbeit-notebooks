{
 "metadata": {
  "language_info": {
   "codemirror_mode": {
    "name": "ipython",
    "version": 3
   },
   "file_extension": ".py",
   "mimetype": "text/x-python",
   "name": "python",
   "nbconvert_exporter": "python",
   "pygments_lexer": "ipython3",
   "version": "3.8.9"
  },
  "orig_nbformat": 4,
  "kernelspec": {
   "name": "python3",
   "display_name": "Python 3.8.9 64-bit ('env': venv)"
  },
  "interpreter": {
   "hash": "180b983c19b59fbc4ee75c0071bf8c3d8fd3c21c390b9fd8c386bbb388b8a5f0"
  }
 },
 "nbformat": 4,
 "nbformat_minor": 2,
 "cells": [
  {
   "cell_type": "code",
   "execution_count": 1,
   "source": [
    "import math\r\n",
    "import numpy as np\r\n",
    "import matplotlib.pyplot as plt\r\n",
    "import matplotlib as mpl\r\n",
    "mpl.rcParams.update({\r\n",
    "    \"pgf.texsystem\": \"pdflatex\",\r\n",
    "    'font.family': 'serif',\r\n",
    "    'text.usetex': True,\r\n",
    "    'pgf.rcfonts': False,\r\n",
    "    'font.size': 16\r\n",
    "})\r\n",
    "\r\n",
    "SAVE_FIG = True\r\n",
    "\r\n",
    "def save_fig(name, tight_layout = True):\r\n",
    "    if SAVE_FIG:\r\n",
    "        print(f\"Saving figure {name} ...\")\r\n",
    "        if tight_layout:\r\n",
    "            plt.tight_layout(pad=0.4)\r\n",
    "        plt.savefig(f\"plots/{name}.pdf\", backend=\"pgf\")"
   ],
   "outputs": [],
   "metadata": {}
  },
  {
   "cell_type": "code",
   "execution_count": 2,
   "source": [
    "rng = np.random.default_rng(42)\r\n",
    "x = 6 * rng.random((100, 1))\r\n",
    "y = 5 + 3 * x"
   ],
   "outputs": [],
   "metadata": {}
  },
  {
   "cell_type": "code",
   "execution_count": 13,
   "source": [
    "x"
   ],
   "outputs": [
    {
     "output_type": "execute_result",
     "data": {
      "text/plain": [
       "array([[4.64373629],\n",
       "       [2.63327064],\n",
       "       [5.15158752],\n",
       "       [4.18420817],\n",
       "       [0.56506409],\n",
       "       [5.85373411],\n",
       "       [4.56683821],\n",
       "       [4.71638583],\n",
       "       [0.7686818 ],\n",
       "       [2.70231563],\n",
       "       [2.22478815],\n",
       "       [5.56058993],\n",
       "       [3.86319072],\n",
       "       [4.93656968],\n",
       "       [2.66048519],\n",
       "       [1.36343233],\n",
       "       [3.32750872],\n",
       "       [0.38290354],\n",
       "       [4.96578703],\n",
       "       [3.78998639],\n",
       "       [4.54852644],\n",
       "       [2.12715581],\n",
       "       [5.82418815],\n",
       "       [5.35872673],\n",
       "       [4.67030098],\n",
       "       [1.16783225],\n",
       "       [2.80032602],\n",
       "       [0.26282259],\n",
       "       [0.92573695],\n",
       "       [4.09829372],\n",
       "       [4.46857294],\n",
       "       [5.80505839],\n",
       "       [1.95495215],\n",
       "       [2.22275824],\n",
       "       [2.81733487],\n",
       "       [1.13682815],\n",
       "       [0.77952903],\n",
       "       [2.85422956],\n",
       "       [1.36145609],\n",
       "       [4.01888397],\n",
       "       [2.62291151],\n",
       "       [4.99606918],\n",
       "       [4.20159061],\n",
       "       [1.87419985],\n",
       "       [4.99355881],\n",
       "       [4.82858614],\n",
       "       [2.32487027],\n",
       "       [1.72996862],\n",
       "       [4.09497302],\n",
       "       [0.8385149 ],\n",
       "       [1.19944921],\n",
       "       [0.04417362],\n",
       "       [4.72154627],\n",
       "       [3.98910514],\n",
       "       [4.23099227],\n",
       "       [4.68437419],\n",
       "       [2.75349465],\n",
       "       [3.41244718],\n",
       "       [0.83878199],\n",
       "       [0.68718044],\n",
       "       [4.01041777],\n",
       "       [2.82657724],\n",
       "       [3.39141664],\n",
       "       [4.58999314],\n",
       "       [3.80830992],\n",
       "       [3.3214764 ],\n",
       "       [3.35524296],\n",
       "       [1.82370059],\n",
       "       [0.18490701],\n",
       "       [2.62030434],\n",
       "       [1.28750804],\n",
       "       [2.45117186],\n",
       "       [5.12041844],\n",
       "       [1.40363692],\n",
       "       [0.34981645],\n",
       "       [1.68830335],\n",
       "       [1.76156255],\n",
       "       [3.97149909],\n",
       "       [3.34219291],\n",
       "       [4.70338925],\n",
       "       [3.98588124],\n",
       "       [2.43832117],\n",
       "       [4.88412231],\n",
       "       [1.00183752],\n",
       "       [0.13627244],\n",
       "       [0.54028716],\n",
       "       [4.3341561 ],\n",
       "       [2.77126338],\n",
       "       [0.96763067],\n",
       "       [3.00626865],\n",
       "       [0.91387262],\n",
       "       [4.17792225],\n",
       "       [2.67693765],\n",
       "       [2.28612736],\n",
       "       [1.80907253],\n",
       "       [3.78169556],\n",
       "       [2.17087566],\n",
       "       [0.52589952],\n",
       "       [0.70803541],\n",
       "       [5.77138599]])"
      ]
     },
     "metadata": {},
     "execution_count": 13
    }
   ],
   "metadata": {}
  },
  {
   "cell_type": "code",
   "execution_count": 14,
   "source": [
    "x.shape"
   ],
   "outputs": [
    {
     "output_type": "execute_result",
     "data": {
      "text/plain": [
       "(100, 1)"
      ]
     },
     "metadata": {},
     "execution_count": 14
    }
   ],
   "metadata": {}
  },
  {
   "cell_type": "code",
   "execution_count": 4,
   "source": [
    "plt.plot(x, y, \"b.\")\r\n",
    "plt.xlabel(\"$x_1$\")\r\n",
    "plt.ylabel(r\"$5 + 3x_1$\")\r\n",
    "plt.axis([0, 6, 5, 25])\r\n",
    "save_fig(\"linear-data\")\r\n",
    "plt.show()"
   ],
   "outputs": [
    {
     "output_type": "stream",
     "name": "stdout",
     "text": [
      "Saving figure linear-data ...\n"
     ]
    },
    {
     "output_type": "display_data",
     "data": {
      "text/plain": [
       "<Figure size 432x288 with 1 Axes>"
      ],
      "image/png": "[encoded data removed]"
     },
     "metadata": {
      "needs_background": "light"
     }
    }
   ],
   "metadata": {}
  },
  {
   "cell_type": "code",
   "execution_count": 5,
   "source": [
    "y += 3 * rng.standard_normal((100, 1))"
   ],
   "outputs": [],
   "metadata": {}
  },
  {
   "cell_type": "code",
   "execution_count": 6,
   "source": [
    "plt.plot(x, y, \"b.\")\r\n",
    "plt.xlabel(\"$x_1$\")\r\n",
    "plt.ylabel(r\"$5 + 3x_1 + r$\")\r\n",
    "plt.axis([0, 6, 5, 25])\r\n",
    "save_fig(\"linear-data-noise\")\r\n",
    "plt.show()"
   ],
   "outputs": [
    {
     "output_type": "stream",
     "name": "stdout",
     "text": [
      "Saving figure linear-data-noise ...\n"
     ]
    },
    {
     "output_type": "display_data",
     "data": {
      "text/plain": [
       "<Figure size 432x288 with 1 Axes>"
      ],
      "image/png": "[encoded data removed]"
     },
     "metadata": {
      "needs_background": "light"
     }
    }
   ],
   "metadata": {}
  },
  {
   "cell_type": "code",
   "execution_count": 7,
   "source": [
    "from sklearn.linear_model import LinearRegression\r\n",
    "lin_reg = LinearRegression()\r\n",
    "lin_reg.fit(x, y)\r\n",
    "lin_reg.intercept_, lin_reg.coef_"
   ],
   "outputs": [
    {
     "output_type": "execute_result",
     "data": {
      "text/plain": [
       "(array([4.84609918]), array([[3.03831479]]))"
      ]
     },
     "metadata": {},
     "execution_count": 7
    }
   ],
   "metadata": {}
  },
  {
   "cell_type": "code",
   "execution_count": 8,
   "source": [
    "X_new =  np.array([[-2], [8]])\r\n",
    "y_new = lin_reg.predict(X_new)\r\n",
    "y_new"
   ],
   "outputs": [
    {
     "output_type": "execute_result",
     "data": {
      "text/plain": [
       "array([[-1.23053041],\n",
       "       [29.15261753]])"
      ]
     },
     "metadata": {},
     "execution_count": 8
    }
   ],
   "metadata": {}
  },
  {
   "cell_type": "code",
   "execution_count": 9,
   "source": [
    "plt.plot(X_new, y_new, \"r-\", linewidth=2, label=\"Prognose\")\r\n",
    "plt.plot(x, y, \"b.\")\r\n",
    "plt.text(4, 10, r\"$\\theta_0 = 4.85$\")\r\n",
    "plt.text(4, 8.5, r\"$\\theta_1 = 3.04$\")\r\n",
    "plt.xlabel(\"$x_1$\")\r\n",
    "plt.ylabel(r\"$5 + 3x_1 + r$\")\r\n",
    "plt.axis([0, 6, 5, 25])\r\n",
    "plt.legend()\r\n",
    "save_fig(\"linear-data-prediction\")\r\n",
    "plt.show()"
   ],
   "outputs": [
    {
     "output_type": "stream",
     "name": "stdout",
     "text": [
      "Saving figure linear-data-prediction ...\n"
     ]
    },
    {
     "output_type": "display_data",
     "data": {
      "text/plain": [
       "<Figure size 432x288 with 1 Axes>"
      ],
      "image/png": "[encoded data removed]"
     },
     "metadata": {
      "needs_background": "light"
     }
    }
   ],
   "metadata": {}
  },
  {
   "cell_type": "code",
   "execution_count": 10,
   "source": [
    "a = np.array([1, 2, 3])\r\n",
    "a"
   ],
   "outputs": [
    {
     "output_type": "execute_result",
     "data": {
      "text/plain": [
       "array([1, 2, 3])"
      ]
     },
     "metadata": {},
     "execution_count": 10
    }
   ],
   "metadata": {}
  },
  {
   "cell_type": "code",
   "execution_count": 11,
   "source": [
    "a * 3"
   ],
   "outputs": [
    {
     "output_type": "execute_result",
     "data": {
      "text/plain": [
       "array([3, 6, 9])"
      ]
     },
     "metadata": {},
     "execution_count": 11
    }
   ],
   "metadata": {}
  }
 ]
}